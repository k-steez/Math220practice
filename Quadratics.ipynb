{
 "cells": [
  {
   "cell_type": "code",
   "execution_count": 65,
   "id": "ac9103c3-adc3-4473-8952-f26dd2ea0dc5",
   "metadata": {},
   "outputs": [
    {
     "data": {
      "text/plain": [
       "(-1j, 1j)"
      ]
     },
     "execution_count": 65,
     "metadata": {},
     "output_type": "execute_result"
    }
   ],
   "source": [
    "quad(1,0,1)\n"
   ]
  },
  {
   "cell_type": "code",
   "execution_count": 4,
   "id": "f7615b08-ac8e-421d-a1a2-fc563231dafa",
   "metadata": {},
   "outputs": [],
   "source": [
    "def quad(a, b, c):\n",
    "    D = b**2 - 4*a*c\n",
    "    if D > 0 or D == 0:\n",
    "        d = D**0.5\n",
    "    elif D < 0:\n",
    "        d =1j * (abs(D))**0.5\n",
    "\n",
    "    root1 = (-b-d)/(2*a)\n",
    "    root2 = (-b+d)/ (2*a)\n",
    "    return (root1, root2)\n",
    "    \n",
    "    \n",
    "    \n",
    "    \n",
    "    \n",
    "    "
   ]
  },
  {
   "cell_type": "code",
   "execution_count": 6,
   "id": "df356d85-1943-497f-b697-1ddef16ec080",
   "metadata": {},
   "outputs": [
    {
     "data": {
      "text/plain": [
       "((-0.625-1.0532687216470449j), (-0.625+1.0532687216470449j))"
      ]
     },
     "execution_count": 6,
     "metadata": {},
     "output_type": "execute_result"
    }
   ],
   "source": [
    "quad(4,5,6)"
   ]
  },
  {
   "cell_type": "code",
   "execution_count": 113,
   "id": "87679f51-adcd-43fd-b03f-b7797f54c1a7",
   "metadata": {},
   "outputs": [
    {
     "data": {
      "text/plain": [
       "[2, 4, 6, 8, 10, 12, 14, 16, 18, 20]"
      ]
     },
     "execution_count": 113,
     "metadata": {},
     "output_type": "execute_result"
    }
   ],
   "source": [
    "k = [2,4,6,8,10, 12, 14,16,18]\n",
    "k.pop(20)\n",
    "k\n",
    "\n",
    "## last argument refers to step variable.\n",
    "## k[2:4:-1]"
   ]
  },
  {
   "cell_type": "code",
   "execution_count": 4,
   "id": "cf397574-2300-43e9-a2ab-95ebfdb24379",
   "metadata": {},
   "outputs": [],
   "source": [
    "# default values in function parameter should be listed as non-default first before defualt\n",
    "# Calling a function with default values whilst passing in other values does not matter/"
   ]
  },
  {
   "cell_type": "raw",
   "id": "18171277-1349-4f23-aca9-a79847024075",
   "metadata": {},
   "source": []
  },
  {
   "cell_type": "code",
   "execution_count": 32,
   "id": "59968747-174f-4b7e-a464-4f47dc72b0c2",
   "metadata": {},
   "outputs": [],
   "source": [
    "def funcname(in1,in2=5,in3=5):\n",
    "    return in1 + in2 + in3"
   ]
  },
  {
   "cell_type": "code",
   "execution_count": 71,
   "id": "86240bd8-3d51-49d3-9faf-b68c534cbb11",
   "metadata": {},
   "outputs": [],
   "source": [
    "s = [1,2,3,4,5,6,7,8.9]"
   ]
  },
  {
   "cell_type": "code",
   "execution_count": 93,
   "id": "9b77fdd8-3671-434c-8ef1-774a89f9cd97",
   "metadata": {},
   "outputs": [],
   "source": [
    "f = lambda a,b,c: a+b+c"
   ]
  },
  {
   "cell_type": "markdown",
   "id": "25356f68-f68a-4047-b989-75cc775aeaba",
   "metadata": {},
   "source": [
    "f(2,5,6)"
   ]
  },
  {
   "cell_type": "code",
   "execution_count": null,
   "id": "981bfb34-f91a-42a8-aab2-0189155be20c",
   "metadata": {},
   "outputs": [],
   "source": []
  },
  {
   "cell_type": "code",
   "execution_count": null,
   "id": "8cb0b967-1e30-42f4-b4a7-0bf7daa0c4dd",
   "metadata": {},
   "outputs": [],
   "source": []
  },
  {
   "cell_type": "code",
   "execution_count": null,
   "id": "05dbeb9f-381e-474a-b182-666a4acb549d",
   "metadata": {},
   "outputs": [],
   "source": []
  }
 ],
 "metadata": {
  "kernelspec": {
   "display_name": "Python 3 (ipykernel)",
   "language": "python",
   "name": "python3"
  },
  "language_info": {
   "codemirror_mode": {
    "name": "ipython",
    "version": 3
   },
   "file_extension": ".py",
   "mimetype": "text/x-python",
   "name": "python",
   "nbconvert_exporter": "python",
   "pygments_lexer": "ipython3",
   "version": "3.12.7"
  }
 },
 "nbformat": 4,
 "nbformat_minor": 5
}
